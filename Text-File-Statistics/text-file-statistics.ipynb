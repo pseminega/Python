{
 "cells": [
  {
   "cell_type": "markdown",
   "metadata": {},
   "source": [
    "##  Keeping the letters that we want"
   ]
  },
  {
   "cell_type": "code",
   "execution_count": 1,
   "metadata": {
    "collapsed": true
   },
   "outputs": [],
   "source": [
    "# Set of all characters to keep\n",
    "keep = {'a', 'b', 'c' , 'd' , 'e' ,'f' , 'g' , 'h' , 'e' , 'j' , 'k' , 'l' , 'm' , 'n' ,\n",
    "        'o' , 'p' , 'q' , 'r' , 's' , 't' , 'u' , 'v' , 'w' , 'x' , 'y' , 'z' ,\n",
    "        ' ', '-' , \"'\"}\n",
    "\n",
    "def normalize(s):\n",
    "    \"\"\"Convert s to a normalized string\n",
    "    \"\"\"\n",
    "    \n",
    "    result = ''\n",
    "    for c in s.lower():\n",
    "        if c in keep:\n",
    "            result += c\n",
    "    return result"
   ]
  },
  {
   "cell_type": "markdown",
   "metadata": {},
   "source": [
    "## Converting a String to a Frequency Dictionary"
   ]
  },
  {
   "cell_type": "code",
   "execution_count": 2,
   "metadata": {
    "collapsed": true
   },
   "outputs": [],
   "source": [
    "def make_freq_dict(s):\n",
    "    \"\"\"Returns a dictionary whose keys are the words of s, and whose values are the counts of those words.\n",
    "    \"\"\"\n",
    "    \n",
    "    s = normalize(s)\n",
    "    words = s.split()\n",
    "    d = {}\n",
    "    for w in words:\n",
    "        if w in d:           # see w before?\n",
    "            d[w] += 1\n",
    "        else:\n",
    "            d[w] = 1\n",
    "    return d"
   ]
  },
  {
   "cell_type": "code",
   "execution_count": 3,
   "metadata": {
    "collapsed": true
   },
   "outputs": [],
   "source": [
    "def print_file_stats(fname):\n",
    "    \"\"\" Print statistics for the given file.\n",
    "    \"\"\"\n",
    "    \n",
    "    s = open(fname, 'r').read()\n",
    "    num_chars = len(s)                                      # count characters before normalizing s\n",
    "    num_lines = s.count('\\n')                               # count lines before normalizing s\n",
    "    d = make_freq_dict(s)\n",
    "    num_words = sum(d[w] for w in d)                        # count number of words in s\n",
    "    \n",
    "    # create list of (count, pair) words ordered from most frequent to least frequent\n",
    "    lst = [(d[w], w) for w in d]\n",
    "    lst.sort()\n",
    "    lst.reverse()\n",
    "    # print the results to the screen\n",
    "    print(\"The file '%s' has: \" % fname)\n",
    "    print(\" %s characters\" % num_chars)\n",
    "    print(\" %s lines\" % num_lines)\n",
    "    print(\" %s words\" % num_words)\n",
    "    print(\"\\nThe top 10 most frequent words are:\")\n",
    "    i = 1 # i is the number of the list item\n",
    "    for count, word in lst[:10]:\n",
    "        print('%2s. %4s %s' % (i, count, word))\n",
    "        i += 1"
   ]
  },
  {
   "cell_type": "code",
   "execution_count": 6,
   "metadata": {},
   "outputs": [
    {
     "name": "stdout",
     "output_type": "stream",
     "text": [
      "The file 'C:\\Users\\User\\Desktop\\Python\\data\\romeoandjuliet.txt' has: \n",
      " 4945 characters\n",
      " 149 lines\n",
      " 765 words\n",
      "\n",
      "The top 10 most frequent words are:\n",
      " 1.   27 the\n",
      " 2.   15 and\n",
      " 3.   15 a\n",
      " 4.   14 t\n",
      " 5.   14 of\n",
      " 6.   14 n\n",
      " 7.   13 to\n",
      " 8.   13 my\n",
      " 9.    9 you\n",
      "10.    8 thou\n"
     ]
    }
   ],
   "source": [
    "print_file_stats(\"romeoandjuliet.txt\")"
   ]
  },
  {
   "cell_type": "code",
   "execution_count": null,
   "metadata": {
    "collapsed": true
   },
   "outputs": [],
   "source": []
  }
 ],
 "metadata": {
  "kernelspec": {
   "display_name": "Python 3",
   "language": "python",
   "name": "python3"
  },
  "language_info": {
   "codemirror_mode": {
    "name": "ipython",
    "version": 3
   },
   "file_extension": ".py",
   "mimetype": "text/x-python",
   "name": "python",
   "nbconvert_exporter": "python",
   "pygments_lexer": "ipython3",
   "version": "3.6.2"
  }
 },
 "nbformat": 4,
 "nbformat_minor": 2
}
